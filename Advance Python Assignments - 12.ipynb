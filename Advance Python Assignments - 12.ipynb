{
 "cells": [
  {
   "cell_type": "markdown",
   "id": "23df092c-8b05-45e7-94e7-908804c25e4c",
   "metadata": {},
   "source": [
    "### Advance Python Assignments - 12"
   ]
  },
  {
   "cell_type": "markdown",
   "id": "5dad33e4-f47d-4199-a8f1-f802bb280ff1",
   "metadata": {},
   "source": [
    "Q1. Does assigning a value to a string&#39;s indexed character violate Python&#39;s string immutability?\n",
    "\n",
    "Yes. It is beacause of string immutability that means we can not change the characters in string by assigning new values to indexes."
   ]
  },
  {
   "cell_type": "markdown",
   "id": "3ca90e28-2752-4c74-8cba-ffc3a3f1932f",
   "metadata": {},
   "source": [
    "Q2. Does using the += operator to concatenate strings violate Python&#39;s string immutability? Why or\n",
    "why not?\n",
    "\n",
    "No. When we concatenate string, we assign new value to the same string variable. We are not altering string based on the indexes, so it won't violate Python's string immutability"
   ]
  },
  {
   "cell_type": "markdown",
   "id": "d7c38c9d-32f6-49f2-9d8e-8eb8bd61d763",
   "metadata": {},
   "source": [
    "Q3. In Python, how many different ways are there to index a character?\n",
    "\n",
    "There are two methods for this, find() and index() both will return the lowest index at which char is found."
   ]
  },
  {
   "cell_type": "markdown",
   "id": "a3e56e7e-5aa7-44f9-8e48-790357278fe2",
   "metadata": {},
   "source": [
    "Q4. What is the relationship between indexing and slicing?\n",
    "\n",
    "Indexing is a way to access an element of a string by its position or index. Slicing is accessing only part of a string and not a full string. String slicing is done by using index."
   ]
  },
  {
   "cell_type": "code",
   "execution_count": 1,
   "id": "a1c561e9-a950-4cf4-b7cb-6322ff0cb260",
   "metadata": {},
   "outputs": [
    {
     "name": "stdout",
     "output_type": "stream",
     "text": [
      "bhi\n",
      "kehsi\n"
     ]
    }
   ],
   "source": [
    "a = 'Abhishek'\n",
    "\n",
    "print(a[1:4])\n",
    "print(a[-1:2:-1])"
   ]
  },
  {
   "cell_type": "markdown",
   "id": "9c790867-e112-47f5-8397-c3cebd82bba8",
   "metadata": {},
   "source": [
    "Q5. What is an indexed character&#39;s exact data type? What is the data form of a slicing-generated\n",
    "substring?\n",
    "\n",
    "for both cases, it is 'str' type."
   ]
  },
  {
   "cell_type": "markdown",
   "id": "a5e88dde-9536-410c-baf1-8f6d619d385a",
   "metadata": {},
   "source": [
    "Q6. What is the relationship between string and character &quot;types&quot; in Python?\n",
    "\n",
    "In Python, There is no char data type, even a single character enclosed in doubble quotes is considered as str."
   ]
  },
  {
   "cell_type": "markdown",
   "id": "eb8191b3-fca9-4735-b602-4565e99f34ad",
   "metadata": {},
   "source": [
    "Q7. Identify at least two operators and one method that allow you to combine one or more smaller\n",
    "strings to create a larger string.\n",
    "\n",
    "\"+\"   will concatenate two strings and    \"*\"   will repeat the string number of times mentioned. We can also use join() method for getting a larger string."
   ]
  },
  {
   "cell_type": "code",
   "execution_count": 2,
   "id": "0ae49275-92e6-4286-87ab-183b6c2bb715",
   "metadata": {},
   "outputs": [
    {
     "name": "stdout",
     "output_type": "stream",
     "text": [
      "Hello!How are you?\n",
      "Good Good Good Good \n",
      "How are you?\n"
     ]
    }
   ],
   "source": [
    "print(\"Hello!\" + 'How are you?')\n",
    "\n",
    "print(\"Good \" * 4)\n",
    "\n",
    "l = ['How', 'are', 'you?']\n",
    "\n",
    "s = ' '.join(l)\n",
    "\n",
    "print(s)"
   ]
  },
  {
   "cell_type": "markdown",
   "id": "b15b172f-6a7d-48ab-91ad-f6e107f5289d",
   "metadata": {},
   "source": [
    "Q8. What is the benefit of first checking the target string with in or not in before using the index\n",
    "method to find a substring?"
   ]
  },
  {
   "cell_type": "code",
   "execution_count": 3,
   "id": "1266c695-75cc-4c10-a52a-0b2d1116c978",
   "metadata": {},
   "outputs": [
    {
     "ename": "ValueError",
     "evalue": "substring not found",
     "output_type": "error",
     "traceback": [
      "\u001b[1;31m---------------------------------------------------------------------------\u001b[0m",
      "\u001b[1;31mValueError\u001b[0m                                Traceback (most recent call last)",
      "Cell \u001b[1;32mIn[3], line 8\u001b[0m\n\u001b[0;32m      5\u001b[0m \u001b[38;5;28;01mif\u001b[39;00m s1 \u001b[38;5;129;01min\u001b[39;00m s:\n\u001b[0;32m      6\u001b[0m     \u001b[38;5;28mprint\u001b[39m(s\u001b[38;5;241m.\u001b[39mindex(s1))\n\u001b[1;32m----> 8\u001b[0m \u001b[43ms\u001b[49m\u001b[38;5;241;43m.\u001b[39;49m\u001b[43mindex\u001b[49m\u001b[43m(\u001b[49m\u001b[43ms1\u001b[49m\u001b[43m)\u001b[49m\n",
      "\u001b[1;31mValueError\u001b[0m: substring not found"
     ]
    }
   ],
   "source": [
    "s = 'abcdefghijk'\n",
    "\n",
    "s1 = 'xyz'\n",
    "\n",
    "if s1 in s:\n",
    "    print(s.index(s1))\n",
    "\n",
    "s.index(s1)"
   ]
  },
  {
   "cell_type": "markdown",
   "id": "9fa37130-f6c1-4d3a-af4e-1d51a8536596",
   "metadata": {},
   "source": [
    "Q9. Which operators and built-in string methods produce simple Boolean (true/false) results?\n"
   ]
  },
  {
   "cell_type": "markdown",
   "id": "f3ae603d-8e99-4d00-a869-c73521ef4839",
   "metadata": {},
   "source": [
    "Operators:\n",
    "    \n",
    "        1. Comparison operators : (== ,!= ,< ,> ,<=, >=) \n",
    "        2. Logical Operators : (and, or, not)\n",
    "        3. Identity Operators : (is , is not)\n",
    "        4. Membership Operators : (in, not in)\n",
    "    \n",
    "    String methods:\n",
    "    \n",
    "        1. endswith() : Returns true if the string ends with the specified value \n",
    "        2. isalnum()\tReturns True if all characters in the string are alphanumeric        \n",
    "        3. isalpha()\tReturns True if all characters in the string are in the alphabet        \n",
    "        4. isdecimal()\tReturns True if all characters in the string are decimals       \n",
    "        5. isdigit()\tReturns True if all characters in the string are digits        \n",
    "        6. isidentifier()\tReturns True if the string is an identifier        \n",
    "        7. islower()\tReturns True if all characters in the string are lower case        \n",
    "        8. isnumeric()\tReturns True if all characters in the string are numeric        \n",
    "        9. isprintable()\tReturns True if all characters in the string are printable        \n",
    "        10. isspace()\tReturns True if all characters in the string are whitespaces        \n",
    "        11. istitle()\tReturns True if the string follows the rules of a title        \n",
    "        12. isupper()\tReturns True if all characters in the string are upper case"
   ]
  }
 ],
 "metadata": {
  "kernelspec": {
   "display_name": "Python 3 (ipykernel)",
   "language": "python",
   "name": "python3"
  },
  "language_info": {
   "codemirror_mode": {
    "name": "ipython",
    "version": 3
   },
   "file_extension": ".py",
   "mimetype": "text/x-python",
   "name": "python",
   "nbconvert_exporter": "python",
   "pygments_lexer": "ipython3",
   "version": "3.10.9"
  }
 },
 "nbformat": 4,
 "nbformat_minor": 5
}
