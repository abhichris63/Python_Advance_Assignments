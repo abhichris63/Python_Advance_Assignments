{
 "cells": [
  {
   "cell_type": "markdown",
   "id": "ff4f148e-dd00-437d-867e-7df29c9d1f95",
   "metadata": {},
   "source": [
    "### Advance Python Assignments - 10"
   ]
  },
  {
   "cell_type": "markdown",
   "id": "1a371adc-170f-4ff3-b8e9-e7f8e9d81877",
   "metadata": {},
   "source": [
    "Q1. What is the difference between __getattr__ and __getattribute__?\n",
    "\n",
    "Normally, if we want to access the attribute of a class, we access it with instance of the class like instance.attribute_name. These attributes are already present in the class. Where as, to access the attribute of class which are not defined in the class, we use getattr() method.\n",
    "\n",
    "But if the attribute does exist, getattr won’t be invoked"
   ]
  },
  {
   "cell_type": "code",
   "execution_count": 1,
   "id": "1f4afc3c-608f-4aa3-9f73-017321bb7066",
   "metadata": {},
   "outputs": [
    {
     "name": "stdout",
     "output_type": "stream",
     "text": [
      "Banglore\n",
      "abcd\n"
     ]
    }
   ],
   "source": [
    "class Sample:\n",
    "    def __init__(self,address):\n",
    "        self.address = address\n",
    "    \n",
    "    def __getattr__(self,name):\n",
    "        return name.lower()\n",
    "    \n",
    "s =Sample('Banglore')\n",
    "print(s.address) # existing attribute\n",
    "print(s.ABCD) # ABCD is non defined in class"
   ]
  },
  {
   "cell_type": "markdown",
   "id": "d84d617d-12b5-4ee3-ae2e-2d58c7a61376",
   "metadata": {},
   "source": [
    "getattribute will look for every attribute, doesn’t matter if the attribute exists or not."
   ]
  },
  {
   "cell_type": "code",
   "execution_count": 3,
   "id": "b083b9a2-b439-404f-b498-67fd743ba843",
   "metadata": {},
   "outputs": [
    {
     "name": "stdout",
     "output_type": "stream",
     "text": [
      "New Value\n"
     ]
    }
   ],
   "source": [
    "class Dummy():\n",
    "\n",
    "    def __getattribute__(self, attr):\n",
    "        return 'New Value'\n",
    "\n",
    "d = Dummy()\n",
    "d.value = \"Old value\"\n",
    "print(d.value)  # \"YOU SEE ME?\"\n"
   ]
  },
  {
   "cell_type": "markdown",
   "id": "9844e020-bc12-49ec-ac6e-6a1329c6a852",
   "metadata": {},
   "source": [
    "Q2. What is the difference between properties and descriptors?\n",
    "\n",
    "In Properties, We can bind getter, setter functions with an attribute name, using the built-in property function. In descriptor, We can bind getter, setter (and deleter) functions into a separate class. We then assign an object of this class to the attribute name."
   ]
  },
  {
   "cell_type": "markdown",
   "id": "0644fec9-f680-49ed-9324-3d3b49bd73e6",
   "metadata": {},
   "source": [
    "Q3. What are the key differences in functionality between __getattr__ and __getattribute__, as well as\n",
    "properties and descriptors?\n",
    "\n",
    "To access the attribute of class which are not defined in the class, we use getattr() method. But if the attribute does exist, getattr won’t be invoked. getattribute will look for every attribute, doesn’t matter if the attribute exists or not.\n",
    "\n",
    "In Properties, We can bind getter, setter functions with an attribute name, using the built-in property function. In descriptor, We can bind getter, setter (and deleter) functions into a separate class. We then assign an object of this class to the attribute name."
   ]
  },
  {
   "cell_type": "code",
   "execution_count": null,
   "id": "eeb13e65-61c1-479d-9861-b774e46105a0",
   "metadata": {},
   "outputs": [],
   "source": []
  },
  {
   "cell_type": "code",
   "execution_count": null,
   "id": "082f7c28-8221-4522-8894-2d6abbf6eafd",
   "metadata": {},
   "outputs": [],
   "source": []
  },
  {
   "cell_type": "code",
   "execution_count": null,
   "id": "38e853e4-73c3-480e-9381-1f1bff2f3ea5",
   "metadata": {},
   "outputs": [],
   "source": []
  },
  {
   "cell_type": "code",
   "execution_count": null,
   "id": "af540212-3d4d-40da-80fd-5abf5b503908",
   "metadata": {},
   "outputs": [],
   "source": []
  }
 ],
 "metadata": {
  "kernelspec": {
   "display_name": "Python 3 (ipykernel)",
   "language": "python",
   "name": "python3"
  },
  "language_info": {
   "codemirror_mode": {
    "name": "ipython",
    "version": 3
   },
   "file_extension": ".py",
   "mimetype": "text/x-python",
   "name": "python",
   "nbconvert_exporter": "python",
   "pygments_lexer": "ipython3",
   "version": "3.10.9"
  }
 },
 "nbformat": 4,
 "nbformat_minor": 5
}
