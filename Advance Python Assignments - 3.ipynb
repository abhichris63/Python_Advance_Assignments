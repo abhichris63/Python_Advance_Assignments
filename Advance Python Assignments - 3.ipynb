{
 "cells": [
  {
   "cell_type": "markdown",
   "id": "3398163e",
   "metadata": {},
   "source": [
    "### Advance Python Assignments - 3"
   ]
  },
  {
   "cell_type": "markdown",
   "id": "a85d508a",
   "metadata": {},
   "source": [
    "### 1. What is the concept of an abstract superclass?\n",
    "\n",
    "* abstract superclass is a class that serves as a blueprint or a foundation to the sub classes. But it cannot be instantiated by itself.\n",
    "* It is an abstract class designed to be subclass.\n",
    "* abstract class is a set of guidelines for other classes should be structured."
   ]
  },
  {
   "cell_type": "markdown",
   "id": "39664231",
   "metadata": {},
   "source": [
    "### 2. What happens when a class statement's top level contains a basic assignment statement?\n",
    "\n",
    "It creates a class level attribute. This attribute is shared amoung all the class and can be accessed either the class name or instance of class.\n",
    "\n",
    "Example:\n",
    "\n",
    "    class MyClass:\n",
    "        class_attr = 10  # This is a class-level attribute\n",
    "\n",
    "        def __init__(self, instance_attr):\n",
    "            self.instance_attr = instance_attr\n",
    "\n",
    "    # Accessing the class-level attribute\n",
    "    print(MyClass.class_attr)  # Output: 10\n",
    "\n",
    "    # Creating instances of MyClass\n",
    "    obj1 = MyClass(20)\n",
    "    obj2 = MyClass(30)\n",
    "\n",
    "    # Accessing instance attributes\n",
    "    print(obj1.instance_attr)  # Output: 20\n",
    "    print(obj2.instance_attr)  # Output: 30"
   ]
  },
  {
   "cell_type": "markdown",
   "id": "78602571",
   "metadata": {},
   "source": [
    "### 3. Why does a class need to manually call a superclass's __init__ method?\n",
    "\n",
    "When we create new class(Sub Class) upon the existing class(Super Class). If we need to add new features or behaviors while still keeping the old ones from the existing class (Super Class). If both the super class & sub class have __ init __ method we need to manually call a super class __ init __ method from the sub class __ init __ method. The reason is when we define __ init __ method in subclass it replaces superclass __ init __ method this means if the superclass __ init __ method contains important initialization code it won't be executed.\n",
    "\n",
    "Example:\n",
    "\n",
    "    class Animal:\n",
    "        def __init__(self, species):\n",
    "            self.species = species\n",
    "\n",
    "    class Dog(Animal):\n",
    "        def __init__(self, species, breed):\n",
    "            # This line is necessary to call the superclass's __init__ method\n",
    "            super().__init__(species)\n",
    "            self.breed = breed\n",
    "\n",
    "    # Creating an instance of Dog\n",
    "    my_dog = Dog('Canine', 'Golden Retriever')\n",
    "    print(my_dog.species)  # Output: Canine\n",
    "    print(my_dog.breed)    # Output: Golden Retriever"
   ]
  },
  {
   "cell_type": "markdown",
   "id": "a7526689",
   "metadata": {},
   "source": [
    "### 4. How can you augment, instead of completely replacing, an inherited method?\n",
    "\n",
    "We can augment features or behavior without replacing the existing one.\n",
    "There are 2 simple ways to do that:\n",
    "\n",
    "1. *Call the Super Class method* : In the subclass method start by calling the same method from the superclass using super().method_name() this ensures that original behavior is executed.\n",
    "\n",
    "2. *Add Extra Functionality* : After calling the superclass method, we can add extra functionality code to extend the behavior of the method.\n",
    "\n",
    "\n",
    "Example: \n",
    "\n",
    "    class Vehicle:       #Superclass\n",
    "        def drive(self):\n",
    "            print(\"Vehicle is moving\")\n",
    "\n",
    "    class Car(Vehicle):   #Subclass\n",
    "        def drive(self):\n",
    "            super().drive()  # Calling the superclass method\n",
    "            print(\"Car engine is running\")\n",
    "\n",
    "    # Creating an instance of Car\n",
    "    my_car = Car()\n",
    "    my_car.drive()"
   ]
  },
  {
   "cell_type": "markdown",
   "id": "10bd4404",
   "metadata": {},
   "source": [
    "### 5. How is the local scope of a class different from that of a function?\n",
    "\n",
    "* local scope of the function keeps variables limited to that functions block and they can't be accessed outside the function.\n",
    "* local scope of the classs method is similar in that variables defined withing the method are only accessible within the method. However class attributes defined directly within the class body are accessible through the class itself and its instances, providing a different level of visibility compared to function-local variables."
   ]
  }
 ],
 "metadata": {
  "kernelspec": {
   "display_name": "Python 3 (ipykernel)",
   "language": "python",
   "name": "python3"
  },
  "language_info": {
   "codemirror_mode": {
    "name": "ipython",
    "version": 3
   },
   "file_extension": ".py",
   "mimetype": "text/x-python",
   "name": "python",
   "nbconvert_exporter": "python",
   "pygments_lexer": "ipython3",
   "version": "3.10.9"
  }
 },
 "nbformat": 4,
 "nbformat_minor": 5
}
