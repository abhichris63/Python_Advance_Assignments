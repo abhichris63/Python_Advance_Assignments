{
 "cells": [
  {
   "cell_type": "markdown",
   "id": "5897c325",
   "metadata": {},
   "source": [
    "### Advance Python Assignments - 1"
   ]
  },
  {
   "cell_type": "markdown",
   "id": "4c4a5b6c",
   "metadata": {},
   "source": [
    "Q1. What is the purpose of Python's OOP?\n",
    "\n",
    "OOPs stands for Object Oriented Programming, OOPs helps program to look in structure and understandible.\n",
    "It covers all the data and functions together. It is secure, class can be shareable, reusable & can callable. "
   ]
  },
  {
   "cell_type": "markdown",
   "id": "d3f856cf",
   "metadata": {},
   "source": [
    "Q2. Where does an inheritance search look for an attribute?\n",
    "\n",
    "It looks for an attribute in an instance object, once the attribute is found it will stop at the first place."
   ]
  },
  {
   "cell_type": "markdown",
   "id": "dc19fb26",
   "metadata": {},
   "source": [
    "Q3. How do you distinguish between a class object and an instance object?\n",
    "\n",
    "* class object is a blueprint or plan.\n",
    "* Instance object is a real thing made from blueprint.\n",
    "* class object holds instructions how to create an instance object.\n",
    "* class object describes how to create something which is actual created by instance object with the help of class object."
   ]
  },
  {
   "cell_type": "markdown",
   "id": "4ad7a288",
   "metadata": {},
   "source": [
    "Q4. What makes the first argument in a class’s method function special?\n",
    "\n",
    "The first argument self in a class's method function special because it refers to the instance of class on which the method is being called. It helps to access and manipulate instance's methods and attributes."
   ]
  },
  {
   "cell_type": "markdown",
   "id": "655c81d3",
   "metadata": {},
   "source": [
    "Q5. What is the purpose of the __init__ method?\n",
    "\n",
    "\n",
    "__init__  is an constructor method it is automatically called when new instance of class is created.\n",
    "The __init__ method is used to initialize attributes and perform any necessary setup for the objects behavior."
   ]
  },
  {
   "cell_type": "markdown",
   "id": "6f9a28e4",
   "metadata": {},
   "source": [
    "Q6. What is the process for creating a class instance?\n",
    "\n",
    "At the begining we need to define a class with attributes & methods that describes the objects properties and behavior.\n",
    "Initialize the class by calling its constructor (__int__) method.\n",
    "Now the new instance is created it can access the class's methods & attributes.\n",
    "\n",
    "Example: \n",
    "\n",
    "    class Car:\n",
    "    def __init__(self, make, model, year):\n",
    "        self.make = make\n",
    "        self.model = model\n",
    "        self.year = year\n",
    "    \n",
    "    def start_engine(self):\n",
    "        print(f\"{self.make} {self.model}'s engine is starting!\")\n",
    "\n",
    "#### Step 1: Define the class blueprint\n",
    "\n",
    "#### Step 2: Instantiate the class\n",
    "my_car = Car(\"Toyota\", \"Camry\", 2022)\n",
    "\n",
    "#### Step 3: Access attributes and methods\n",
    "\n",
    "print(f\"My car is a {my_car.year} {my_car.make} {my_car.model}.\")\n",
    "my_car.start_engine()\n"
   ]
  },
  {
   "cell_type": "markdown",
   "id": "ea35851e",
   "metadata": {},
   "source": [
    "Q7. What is the process for creating a class?\n",
    "\n",
    "'class' keyboard is used to define class name and structure.\n",
    "Inside the class define attributes(variables) and methods(functions) that describes properties and behavior.\n",
    "create a constructor(__int__) method to initailize instance attributes when instance object is created."
   ]
  },
  {
   "cell_type": "markdown",
   "id": "5c867129",
   "metadata": {},
   "source": [
    "Q8. How would you define the superclasses of a class?\n",
    "\n",
    "superclasses are the parent class from which the current class inherits its attributes and methods.\n",
    "\n",
    "Example:\n",
    "    \n",
    "    class Parent:\n",
    "        def parent_method(self):\n",
    "            print(\"This is a method from the Parent class\")\n",
    "\n",
    "    class Child(Parent):\n",
    "        def child_method(self):\n",
    "            print(\"This is a method from the Child class\")\n",
    "\n",
    "    # Here, Child is a subclass of Parent\n",
    "    # Child inherits attributes and methods from Parent\n"
   ]
  }
 ],
 "metadata": {
  "kernelspec": {
   "display_name": "Python 3 (ipykernel)",
   "language": "python",
   "name": "python3"
  },
  "language_info": {
   "codemirror_mode": {
    "name": "ipython",
    "version": 3
   },
   "file_extension": ".py",
   "mimetype": "text/x-python",
   "name": "python",
   "nbconvert_exporter": "python",
   "pygments_lexer": "ipython3",
   "version": "3.10.9"
  }
 },
 "nbformat": 4,
 "nbformat_minor": 5
}
