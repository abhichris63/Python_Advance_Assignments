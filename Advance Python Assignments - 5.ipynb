{
 "cells": [
  {
   "cell_type": "markdown",
   "id": "eba118f9",
   "metadata": {},
   "source": [
    "### Advance Python Assignments - 5"
   ]
  },
  {
   "cell_type": "markdown",
   "id": "51deb533",
   "metadata": {},
   "source": [
    "Q1. What is the meaning of multiple inheritance?\n",
    "\n",
    "In Simple words Multiple inheritance inherits attributes and methods from more than one parent class.\n",
    "Which allows it to combine behaviors and characteristics from multiple sources.\n",
    "\n",
    "Example: \n",
    "\n",
    "        class parent1:\n",
    "        def func1(self):\n",
    "                print(\"Function 1 from Parent class 1\")\n",
    "\n",
    "        class parent2:\n",
    "            def func2(self):\n",
    "                print(\"Function 2 from Parent class 2\")\n",
    "\n",
    "        class child(parent1,parent2):\n",
    "            def child_method(self):\n",
    "                print(\"Child's Function\")\n",
    "\n",
    "        #Creating an instance of Child Class\n",
    "        obj = child()\n",
    "\n",
    "        #Accessing method from Child class\n",
    "        obj.child_method()\n",
    "\n",
    "        #Accessing method from Parent1 class\n",
    "        obj.func1()\n",
    "\n",
    "        #Accessing method from Parent2 class\n",
    "        obj.func2()\n",
    "\n",
    "        #Output: \n",
    "            Child's Function\n",
    "            Function 1 from Parent class 1\n",
    "            Function 2 from Parent class 2"
   ]
  },
  {
   "cell_type": "markdown",
   "id": "2b4a9084",
   "metadata": {},
   "source": [
    "Q2. What is the concept of delegation?\n",
    "\n",
    "\n"
   ]
  },
  {
   "cell_type": "markdown",
   "id": "e245471f-b43a-475f-badb-4beeb37820c5",
   "metadata": {},
   "source": [
    "Delegation is an object oriented technique (also called a design pattern). Let's say you have an object x and want to change the behaviour of just one of its methods. You can create a new class that provides a new implementation of the method you're interested in changing and delegates all other methods to the corresponding method of x.\n",
    "\n",
    " The delegation is accomplished via the __getattr__ method; consult the language reference for more information about controlling attribute access."
   ]
  },
  {
   "cell_type": "markdown",
   "id": "431d8973-6e22-419d-8229-a082d6b28fd9",
   "metadata": {},
   "source": [
    "Q3. What is the concept of composition?\n"
   ]
  },
  {
   "cell_type": "markdown",
   "id": "8721c49f-3386-4daa-8aaf-2acba2b777b7",
   "metadata": {},
   "source": [
    "It is one of the fundamental concepts of Object-Oriented Programming. A class that references to one or more objects of other classes as an Instance variable. Here, by using the class name or by creating the object we can access the members of one class inside another class. It enables creating complex types by combining objects of different classes. It means that a class Composite can contain an object of another class Component. This type of relationship is known as Has-A Relation."
   ]
  },
  {
   "cell_type": "markdown",
   "id": "1ee2b8ea-96fa-4225-810e-2bf0cfc20473",
   "metadata": {},
   "source": [
    "Q4. What are bound methods and how do we use them?"
   ]
  },
  {
   "cell_type": "markdown",
   "id": "9099df64-a59b-4abd-baa7-b0a950811981",
   "metadata": {},
   "source": [
    "A bound method is the one which is dependent on the instance of the class as the first argument. It passes the instance as the first argument which is used to access the variables and functions. All functions in the class are by default bound methods."
   ]
  },
  {
   "cell_type": "code",
   "execution_count": 3,
   "id": "d6d4cd17",
   "metadata": {},
   "outputs": [
    {
     "name": "stdout",
     "output_type": "stream",
     "text": [
      "<bound method Sample.fun of <__main__.Sample object at 0x00000288520D6C20>>\n"
     ]
    }
   ],
   "source": [
    "class Sample:\n",
    "    def fun(self, some_value):\n",
    "        self.some_value = some_value\n",
    "    \n",
    "s = Sample()\n",
    "\n",
    "print(s.fun)"
   ]
  },
  {
   "cell_type": "markdown",
   "id": "8d19fef0-03c7-45b7-8283-7661bab6eb46",
   "metadata": {},
   "source": [
    "Q5. What is the purpose of pseudoprivate attributes?\n"
   ]
  },
  {
   "cell_type": "markdown",
   "id": "8b1a2d8d-e009-4bac-93fb-36a41c895024",
   "metadata": {},
   "source": [
    "In Python, there is no concept of \"private\" as such. When naming properties and methods at the level, some special processing is actually done to the name, making it inaccessible to the outside world. "
   ]
  },
  {
   "cell_type": "code",
   "execution_count": 4,
   "id": "16bb594c-b761-43cd-9865-ab59a5ec523a",
   "metadata": {},
   "outputs": [
    {
     "name": "stdout",
     "output_type": "stream",
     "text": [
      "1\n",
      "2\n",
      "4\n"
     ]
    }
   ],
   "source": [
    "class Test:\n",
    "    def __init__(self, a, b, c, d):\n",
    "        self.__a = a # __ means pseudo private variable\n",
    "        self.b = b\n",
    "        self.c = c\n",
    "        self.d = d\n",
    "\n",
    "    def custom(self, v):\n",
    "        return v - self.__a\n",
    "\n",
    "t = Test(1,2,3,4)    \n",
    "print(t._Test__a) # this is the way to access Pseudo private  attribute\n",
    "print(t.b)\n",
    "print(t.custom(5))"
   ]
  }
 ],
 "metadata": {
  "kernelspec": {
   "display_name": "Python 3 (ipykernel)",
   "language": "python",
   "name": "python3"
  },
  "language_info": {
   "codemirror_mode": {
    "name": "ipython",
    "version": 3
   },
   "file_extension": ".py",
   "mimetype": "text/x-python",
   "name": "python",
   "nbconvert_exporter": "python",
   "pygments_lexer": "ipython3",
   "version": "3.10.9"
  }
 },
 "nbformat": 4,
 "nbformat_minor": 5
}
