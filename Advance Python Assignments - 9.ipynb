{
 "cells": [
  {
   "cell_type": "markdown",
   "id": "66e309de-786d-474c-85b1-f9a45ce96434",
   "metadata": {},
   "source": [
    "### Advance Python Assignments - 9"
   ]
  },
  {
   "cell_type": "markdown",
   "id": "327ce7fd-d5ca-4f4e-94eb-90145c312698",
   "metadata": {},
   "source": [
    "Q1. In Python 3.X, what are the names and functions of string object types?\n",
    "\n",
    "In Python 3.X and later, String objects has bulit in class named as \"str\" and it is used to store characters in memory in encoded format."
   ]
  },
  {
   "cell_type": "markdown",
   "id": "702621ad-717d-4873-94c8-70938265c8ab",
   "metadata": {},
   "source": [
    "Q2. How do the string forms in Python 3.X vary in terms of operations?\n",
    "\n",
    "Python supports ASCII as a subset of Unicode. The default encoding of characters in Python is UTF-8 (Unicode Transformation Format - 8-bit). ASCII is really a 7-bit character set; it is mapped to 8-bit bytes by setting the high bit to zero. Thus, ASCII characters are unchanged in UTF-8. A non-zero high bit indicates that a character composed of multiple bytes."
   ]
  },
  {
   "cell_type": "code",
   "execution_count": 11,
   "id": "411c91b3-a3ac-4167-8d76-823063ca4e78",
   "metadata": {},
   "outputs": [
    {
     "name": "stdout",
     "output_type": "stream",
     "text": [
      "105\n"
     ]
    }
   ],
   "source": [
    "u = 'Abhi'\n",
    "print(ord(u[-1]))"
   ]
  },
  {
   "cell_type": "markdown",
   "id": "9d3ed4a9-631f-4c37-8d67-3fc0e3e7c1f6",
   "metadata": {},
   "source": [
    "Q3. In 3.X, how do you put non-ASCII Unicode characters in a string?\n",
    "\n",
    "As we know, there are only 127 ASCII characters in ascii table. It stores symbols, letters, whitespace characters, non printable characters, which are very less. So Python 3 has adopted unicode encoding of strings. for non ASCII u can get any value more than 127."
   ]
  },
  {
   "cell_type": "code",
   "execution_count": 13,
   "id": "9d961bd1-3b9d-4952-b37f-67647afd7d03",
   "metadata": {},
   "outputs": [
    {
     "name": "stdout",
     "output_type": "stream",
     "text": [
      "Abhi©\n"
     ]
    }
   ],
   "source": [
    "s = 'Abhi'\n",
    "\n",
    "s += chr(128)+chr(169)\n",
    "print(s)"
   ]
  },
  {
   "cell_type": "markdown",
   "id": "ec7ccf2c-9711-462d-8992-f0a7f2686af9",
   "metadata": {},
   "source": [
    "Q4. In Python 3.X, what are the key differences between text-mode and binary-mode files?\n",
    "\n",
    "Files opened in binary mode (appending 'b' to the mode argument) return contents as bytes objects without any decoding. In text mode (the default, or when 't' is appended to the mode argument), the contents of the file are returned as strings, the bytes having been first decoded using a platform-dependent encoding or using the specified encoding if given."
   ]
  },
  {
   "cell_type": "markdown",
   "id": "544c8cf4-ef60-488a-be17-dc966baa5a33",
   "metadata": {},
   "source": [
    "Q5. How can you interpret a Unicode text file containing text encoded in a different encoding than\n",
    "your platform&#39;s default?\n",
    "\n",
    "While reading file, we can specify the encoding such as (utf16, utf32), so the file will be decoded according to that encoding and results are returned to the user."
   ]
  },
  {
   "cell_type": "code",
   "execution_count": 14,
   "id": "821864f1-5d6c-44b1-8299-7d6af77a70de",
   "metadata": {},
   "outputs": [
    {
     "name": "stdout",
     "output_type": "stream",
     "text": [
      "this is sample text file for understanding encoding\n",
      "ହୋଉ ହେଲା ଓଡ଼ିଆ | ବହୁତ୍ ଛଇ ତୁମର\n"
     ]
    }
   ],
   "source": [
    "text = \"this is sample text file for understanding encoding\"\n",
    "f = open('sample.txt','w', encoding='utf16')\n",
    "f.write(text)\n",
    "f.close()\n",
    "\n",
    "f = open('sample.txt','r', encoding='utf16')\n",
    "print(f.read())\n",
    "\n",
    "\n",
    "text = 'ହୋଉ ହେଲା ଓଡ଼ିଆ | ବହୁତ୍ ଛଇ ତୁମର'\n",
    "encoded_data = text.encode(\"utf16\")\n",
    "\n",
    "file = open(\"sample1.txt\", \"wb\")\n",
    "file.write(encoded_data)\n",
    "\n",
    "file = open(\"sample1.txt\", \"r\", encoding='utf16')\n",
    "\n",
    "print(file.read())"
   ]
  },
  {
   "cell_type": "markdown",
   "id": "e5892b30-9d5c-4ce7-921d-91f3575708fe",
   "metadata": {},
   "source": [
    "Q7. What qualifies ASCII text as a form of Unicode text?\n",
    "\n",
    "The first 128 Unicode code points represent the equivalent ASCII characters. They have the same meaning in both ASCII and unicode. Since UTF-8 encodes each of these characters with a single byte, any ASCII text is also a UTF-8 text. Unicode is a superset of ASCII."
   ]
  },
  {
   "cell_type": "markdown",
   "id": "dd248e27-9bbc-431a-84fa-d611bf025903",
   "metadata": {},
   "source": [
    "Q8. How much of an effect does the change in string types in Python 3.X have on your code?\n",
    "\n",
    "In Python 3.X and later, there is only one string type that is unicode. So no effect on the code."
   ]
  }
 ],
 "metadata": {
  "kernelspec": {
   "display_name": "Python 3 (ipykernel)",
   "language": "python",
   "name": "python3"
  },
  "language_info": {
   "codemirror_mode": {
    "name": "ipython",
    "version": 3
   },
   "file_extension": ".py",
   "mimetype": "text/x-python",
   "name": "python",
   "nbconvert_exporter": "python",
   "pygments_lexer": "ipython3",
   "version": "3.10.9"
  }
 },
 "nbformat": 4,
 "nbformat_minor": 5
}
