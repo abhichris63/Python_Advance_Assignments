{
 "cells": [
  {
   "cell_type": "markdown",
   "id": "edcd3a73",
   "metadata": {},
   "source": [
    "### Advance Python Assignments - 4"
   ]
  },
  {
   "cell_type": "markdown",
   "id": "76625b4a",
   "metadata": {},
   "source": [
    "### Q1. Which two operator overloading methods can you use in your classes to support iteration?\n",
    "\n",
    "__ iter__ and __ next __\n",
    "\n",
    "* __ iter__ : This method makes your class iterable. It is like telling python how to prepare for iteration. When we use loop with our objects, this method is called and should return an iterator. \n",
    "\n",
    "* __ next __ : This method is used by iterator to provide next value during each iteration step. It is like saying \"give me the next item\" when you're going through your object's element.\n",
    "\n",
    "In simple terms __ iter __ sets your objects to be iterated and __ next __ defines how to move through elements one by one."
   ]
  },
  {
   "cell_type": "markdown",
   "id": "0a879bd6",
   "metadata": {},
   "source": [
    "### Q2. In what contexts do the two operator overloading methods manage printing?\n",
    "\n",
    "* __ str __ and __ repr __ are used to manage how objects should be displayed when it is converted to string.\n",
    "* We can also use str() and repr().\n",
    "* __ str __ method is used to define \"Informal or User friendly\" representation of our objects. It is also called when we use print() function or str(). It returns human readable string.\n",
    "* __ repr __ method manages how your object looks when we are debugging or inspecting the code, we can use repr() function. It will return a representation that could recreate the object.\n",
    "\n",
    "In short, __ str __ is for user-friendly display, and __ repr __ is for developer-friendly display and debugging."
   ]
  },
  {
   "cell_type": "markdown",
   "id": "f54babcc",
   "metadata": {},
   "source": [
    "### Q3. In a class, how do you intercept slice operations?\n",
    "\n",
    "* To Intercept slice operations in class we can use __ getitem__ method. This method is called when we use [] square brackets to access elements using slicing on the class instance.\n",
    "\n",
    "Example:\n",
    "\n",
    "        class MyClass:\n",
    "            def __getitem__(self, index):\n",
    "            \n",
    "                if isinstance(index, slice):\n",
    "                \n",
    "                    # Handle slice operation\n",
    "                    start, stop, step = index.start, index.stop, index.step\n",
    "                    \n",
    "                    # Custom logic to return sliced data\n",
    "                    sliced_data = self.data[start:stop:step]\n",
    "                    \n",
    "                    return sliced_data\n",
    "                    \n",
    "                else:\n",
    "                    # Handle single index access\n",
    "                    return self.data[index]\n",
    "\n",
    "        # Usage\n",
    "        obj = MyClass()\n",
    "        obj.data = [1, 2, 3, 4, 5, 6, 7, 8, 9]\n",
    "\n",
    "        # Slice operation\n",
    "        sliced_portion = obj[2:7:2]     #Start #Stop #Step\n",
    "        print(sliced_portion)  # Output: [3, 5, 7]"
   ]
  },
  {
   "cell_type": "markdown",
   "id": "e7803578",
   "metadata": {},
   "source": [
    "### Q4. In a class, how do you capture in-place addition?\n",
    "\n",
    "\n",
    "To capture in-place addition in the class. we can use __ iadd __ method.\n",
    "\n",
    "    class MyClass:\n",
    "        def __init__(self, value):\n",
    "            self.value = value\n",
    "\n",
    "        def __iadd__(self, other):\n",
    "            if isinstance(other, MyClass):\n",
    "                self.value += other.value\n",
    "            else:\n",
    "                self.value += other\n",
    "            return self\n",
    "\n",
    "    # Usage\n",
    "    obj1 = MyClass(5)\n",
    "    obj2 = MyClass(10)\n",
    "\n",
    "    obj1 += obj2\n",
    "    print(obj1.value)  # Output: 15\n",
    "\n",
    "    obj1 += 20\n",
    "    print(obj1.value)  # Output: 35\n",
    "\n",
    "\n",
    "The __ iadd __ method is defined within the MyClass class. When you use the += operator on instances of MyClass, Python calls the __ iadd __ method. The method checks if the other operand is of the same class type or not. If it is, it adds the values together. If not, it adds the given value to the object's value attribute. The method then returns self to allow chaining and updating the object's state.\n",
    "\n",
    "By implementing the __ iadd __ method, you can customize how your class instances behave when the in-place addition operation is used on them."
   ]
  },
  {
   "cell_type": "markdown",
   "id": "95c8b18a",
   "metadata": {},
   "source": [
    "### Q5. When is it appropriate to use operator overloading?\n",
    "\n",
    "* Operator overloading in Python is appropriate when we want to make our custom objects work with built-in operators (like +, -, *, /, etc.) in a way that makes sense according to the object's context. \n",
    "* In simpler words, we use operator overloading when we want to define what happens when we use operators on our own created objects, making our code more intuitive and expressive."
   ]
  }
 ],
 "metadata": {
  "kernelspec": {
   "display_name": "Python 3 (ipykernel)",
   "language": "python",
   "name": "python3"
  },
  "language_info": {
   "codemirror_mode": {
    "name": "ipython",
    "version": 3
   },
   "file_extension": ".py",
   "mimetype": "text/x-python",
   "name": "python",
   "nbconvert_exporter": "python",
   "pygments_lexer": "ipython3",
   "version": "3.10.9"
  }
 },
 "nbformat": 4,
 "nbformat_minor": 5
}
