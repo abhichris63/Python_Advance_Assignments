{
 "cells": [
  {
   "cell_type": "markdown",
   "id": "2867bbb3",
   "metadata": {},
   "source": [
    "### Advance Python Assignments - 2"
   ]
  },
  {
   "cell_type": "markdown",
   "id": "849ede8e",
   "metadata": {},
   "source": [
    "### Q1. What is the relationship between classes and modules?\n",
    "\n",
    "* class is a blueprint or template for creating objects.\n",
    "* module is a file which contains classes & functions.\n",
    "* classes defines structure and behavior of a particular attributes & methods.\n",
    "* module is a way to organize code into seperate file or namespace, to avoid naming conflicts."
   ]
  },
  {
   "cell_type": "markdown",
   "id": "f6962cd2",
   "metadata": {},
   "source": [
    "### Q2. How do you make instances and classes?\n",
    "\n",
    "instances are created when the class is created, class is a blueprint for creating objects with attributes and methods in structure and behavior.\n",
    "\n",
    "To create class, First thing we need to define a 'class' keyword and provide the class name as 'dog'.\n",
    "\n",
    "    class dog:\n",
    "        def __init__(self,name,age):\n",
    "            self.name = name\n",
    "            self.age = age\n",
    "\n",
    "        def bark(self):\n",
    "            print(f\"{self.name} is barking!\")\n",
    "        \n",
    "__ init __ is a constructor method that initializes attributes like name, age. it also has a bark method.\n",
    "\n",
    "To create instance of the class, we need call the class name followed by parenthesis.\n",
    "\n",
    "Inside the parenthesis we need to provide required arguments like name and age to initialize the __ init __ method for each instance.\n",
    "\n",
    "dog1 = dog('Max',5) #class instances\n",
    "\n",
    "using . notation after the class instances we can class call attributes and methods.\n",
    "\n",
    "**dog1.bark()\n",
    "output = Max is barking!**\n"
   ]
  },
  {
   "cell_type": "markdown",
   "id": "11835831",
   "metadata": {},
   "source": [
    "### Q3. Where and how should be class attributes created?\n",
    "\n",
    "* class attributes are variables are created once after class keyword is defined and class name is given.\n",
    "* class attributes are created within class block but outside any methods.\n",
    "* Inside the class we need to provide __ init __ constructor method which initializes the attributes.\n",
    "* when instance of class is created by calling the class name and providing the arguments in it __ init __ method initializes the arguments.\n",
    "* class attributes are accessed by directly calling class name\n",
    "\n",
    "\n",
    "Example : \n",
    "\n",
    "    class MyClass:\n",
    "    class_attribute = \"I am a class attribute\"\n",
    "    \n",
    "    def __init__(self, instance_attribute):\n",
    "        self.instance_attribute = instance_attribute\n"
   ]
  },
  {
   "cell_type": "markdown",
   "id": "cead04d2",
   "metadata": {},
   "source": [
    "### Q4. Where and how are instance attributes created?\n",
    "\n",
    "* instance attributes are created within __ init __ method of the class.\n",
    "* __ init __ method is a special method in python it is called automatically when new instance is created.\n",
    "\n",
    "Example:\n",
    "\n",
    "    class Person:\n",
    "    \n",
    "        def __init__(self, name, age):\n",
    "            self.name = name  # Creating an instance attribute \"name\"\n",
    "            self.age = age    # Creating an instance attribute \"age\""
   ]
  },
  {
   "cell_type": "markdown",
   "id": "74004204",
   "metadata": {},
   "source": [
    "### Q5. What does the term \"self\" in a Python class mean?\n",
    "\n",
    "* \"self\" keyboard in python class refers to the instance of the class.\n",
    "* The \"self\" is a first parametrer in __ init __ constructor method.\n",
    "* \"self\" is created by __ init __ constructor method.\n",
    "\n",
    "Example :\n",
    "\n",
    "    class MyClass:\n",
    "        def __init__(self, value):\n",
    "            self.value = value\n",
    "\n",
    "        def print_value(self):\n",
    "            print(self.value)\n",
    "\n",
    "    # Creating an instance of MyClass\n",
    "    obj = MyClass(42)\n",
    "\n",
    "    # Calling the instance method using the instance\n",
    "    obj.print_value()\n",
    "\n",
    "* \"self\" helps to access the attributes and methods.\n",
    "* when print_value method is called using obj.print_value() the \"self\" parameter is automatically passed that allows you to access the value(attribute) of the specific instance. "
   ]
  },
  {
   "cell_type": "markdown",
   "id": "8b60f813",
   "metadata": {},
   "source": [
    "### Q6. How does a Python class handle operator overloading?\n",
    "\n",
    "Operator overloading lets you define special methods in the class that corresponds to specific operators.\n",
    "Special methods:  At the beginning & ending of their name double underscore will be like \" __ add __ \" this defines the behavior of \" + \" operator. \" __ eq __ \" this defines the behavior of \" == \" operator.\n",
    "\n",
    "Example:\n",
    "\n",
    "    class ComplexNumber:\n",
    "        def __init__(self, real, imag):\n",
    "            self.real = real\n",
    "            self.imag = imag\n",
    "\n",
    "        def __add__(self, other):\n",
    "            return ComplexNumber(self.real + other.real, self.imag + other.imag)\n",
    "\n",
    "        def __eq__(self, other):\n",
    "            return self.real == other.real and self.imag == other.imag\n",
    "\n",
    "        def __str__(self):\n",
    "            return f\"{self.real} + {self.imag}i\"\n",
    "\n",
    "    # Creating instances of ComplexNumber\n",
    "    num1 = ComplexNumber(2, 3)\n",
    "    num2 = ComplexNumber(4, 5)\n",
    "\n",
    "    # Using operator overloading\n",
    "    result = num1 + num2\n",
    "    print(result)  # Output: 6 + 8i\n",
    "\n",
    "    # Using the equality operator\n",
    "    print(num1 == num2)  # Output: False\n",
    "\n"
   ]
  },
  {
   "cell_type": "markdown",
   "id": "6b02137b",
   "metadata": {},
   "source": [
    "### Q7. When do you consider allowing operator overloading of your classes?\n",
    "\n",
    "Consider allowing operator overloading in our classes when it makes sense in terms of conceptual models of the objects. When it enhances readibilty, clarity, aligns with objects nature and provides meaningful.\n"
   ]
  },
  {
   "cell_type": "markdown",
   "id": "63da2bf5",
   "metadata": {},
   "source": [
    "### Q8. What is the most popular form of operator overloading?\n",
    "\n",
    "The most popular & widely used form of operator overloading is Arthimetic operators overloading like +, -, *, and / to work with custom objects. "
   ]
  },
  {
   "cell_type": "markdown",
   "id": "00bafc7d",
   "metadata": {},
   "source": [
    "### Q9. What are the two most important concepts to grasp in order to comprehend Python OOP code?\n",
    "\n",
    "\"Classes and Objects\" and \"Inheritance and Polymorphism\""
   ]
  }
 ],
 "metadata": {
  "kernelspec": {
   "display_name": "Python 3 (ipykernel)",
   "language": "python",
   "name": "python3"
  },
  "language_info": {
   "codemirror_mode": {
    "name": "ipython",
    "version": 3
   },
   "file_extension": ".py",
   "mimetype": "text/x-python",
   "name": "python",
   "nbconvert_exporter": "python",
   "pygments_lexer": "ipython3",
   "version": "3.10.9"
  }
 },
 "nbformat": 4,
 "nbformat_minor": 5
}
